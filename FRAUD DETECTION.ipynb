{
 "cells": [
  {
   "cell_type": "markdown",
   "id": "84594f19-e663-496e-865f-d0082ce9b161",
   "metadata": {},
   "source": [
    "## Financial Payment Services (Fraud Detection)\n",
    "\n",
    "### About Dataset\n",
    "### Context\n",
    "Develop a classifier for predicting fraudulent transactions for a financial company and use insights from the model to develop an actionable plan. Data for the case is available in CSV format having 6362620 rows and 11 columns.\n",
    "\n",
    "### Data Description\r",
    "#### Below are the description of the database.\r",
    "- <p style = \"color:#226666\"> Steps - Maps a unit of time in the real world. In this case 1 step is 1 hr of time. Total steps 744 (30 days simulation)\n",
    "- <p style = \"color:#226666\"> Type - Cash In, Cash Out, Debit, Payment and Transfer.\n",
    "- <p style = \"color:#226666\"> Amount - Amount of the transaction in local currency.\n",
    "- <p style = \"color:#226666\"> NameOrig - Customer who started the transaction.\n",
    "- <p style = \"color:#226666\"> OldBalanceOrig - Initial balance before the transaction.\n",
    "- <p style = \"color:#226666\"> NewBalanceOrig - New balance after the transaction.\n",
    "- <p style = \"color:#226666\"> NameDest - Customer who is the recipient before the transaction.\n",
    "- <p style = \"color:#226666\"> OldBalanceDest - Initial balance recipient before the transaction. Note that there is no information for customers that start with M (Merchants).\n",
    "- <p style = \"color:#226666\"> NewBalanceDest - New balance recipient after the transaction. Note that there is no information for customers that start with M (Merchants)\n",
    "- <p style = \"color:#226666\"> IsFraud - This is the transaction made by the fraudulent agents inside the simulation. In this specific dataset the fraudulent behavior of the agents aims to profit by taking control of customers accounts and try to empty the funds by transferring to another account and then cashing out of the system.\n",
    "- <p style = \"color:#226666\"> IsFlaggedFraud - The business model aims to control massive transfers from one account to another and flags illegal attempts. An illegal attempt in this dataset is an attempt to transfer more than 200.000 in a single transaction. transaction."
   ]
  },
  {
   "cell_type": "markdown",
   "id": "646a60bd-f36e-48e1-9ae0-96e69fd151b2",
   "metadata": {},
   "source": [
    "### Import libraries"
   ]
  },
  {
   "cell_type": "code",
   "execution_count": 276,
   "id": "3c48317f-8612-47fa-8a17-ae1aab4f3b6f",
   "metadata": {},
   "outputs": [],
   "source": [
    "import numpy as np\n",
    "import pandas as pd\n",
    "import matplotlib.pyplot as plt\n",
    "import seaborn as sns\n",
    "from pandas import factorize\n",
    "from scipy import stats\n",
    "\n",
    "from sklearn.feature_selection import SelectKBest\n",
    "from sklearn.feature_selection import f_classif\n",
    "\n",
    "from sklearn.model_selection import train_test_split , GridSearchCV\n",
    "from sklearn import preprocessing\n",
    "\n",
    "\n",
    "from pandas.plotting import scatter_matrix\n",
    "from sklearn import model_selection\n",
    "from sklearn.metrics import confusion_matrix\n",
    "from sklearn.metrics import classification_report\n",
    "from sklearn.metrics import accuracy_score\n",
    "from sklearn.linear_model import LogisticRegression\n",
    "from sklearn.tree import DecisionTreeClassifier\n",
    "from sklearn.neighbors import KNeighborsClassifier\n",
    "from sklearn.svm import SVC\n",
    "from sklearn.naive_bayes import GaussianNB\n",
    "from sklearn import metrics\n",
    "\n",
    "import warnings\n",
    "warnings.filterwarnings('ignore')"
   ]
  },
  {
   "cell_type": "markdown",
   "id": "a428ac31-655c-4079-b0bd-83d77ea913a2",
   "metadata": {},
   "source": [
    "# <p style=\"padding:15px; background-color:#FFEBCD; font-family:JetBrains Mono; font-weight:bold; color:F0F8FF; font-size:150%; letter-spacing: 2px; text-align:center; border-radius: 15px 15px; border: 5px solid #2C3333\">Load Dataset</p>"
   ]
  },
  {
   "cell_type": "code",
   "execution_count": 277,
   "id": "57b6c917-4418-4714-8bff-45599b7bb743",
   "metadata": {},
   "outputs": [
    {
     "data": {
      "text/html": [
       "<div>\n",
       "<style scoped>\n",
       "    .dataframe tbody tr th:only-of-type {\n",
       "        vertical-align: middle;\n",
       "    }\n",
       "\n",
       "    .dataframe tbody tr th {\n",
       "        vertical-align: top;\n",
       "    }\n",
       "\n",
       "    .dataframe thead th {\n",
       "        text-align: right;\n",
       "    }\n",
       "</style>\n",
       "<table border=\"1\" class=\"dataframe\">\n",
       "  <thead>\n",
       "    <tr style=\"text-align: right;\">\n",
       "      <th></th>\n",
       "      <th>step</th>\n",
       "      <th>type</th>\n",
       "      <th>amount</th>\n",
       "      <th>nameOrig</th>\n",
       "      <th>oldbalanceOrg</th>\n",
       "      <th>newbalanceOrig</th>\n",
       "      <th>nameDest</th>\n",
       "      <th>oldbalanceDest</th>\n",
       "      <th>newbalanceDest</th>\n",
       "      <th>isFraud</th>\n",
       "      <th>isFlaggedFraud</th>\n",
       "    </tr>\n",
       "  </thead>\n",
       "  <tbody>\n",
       "    <tr>\n",
       "      <th>0</th>\n",
       "      <td>1</td>\n",
       "      <td>PAYMENT</td>\n",
       "      <td>9839.64</td>\n",
       "      <td>C1231006815</td>\n",
       "      <td>170136.00</td>\n",
       "      <td>160296.36</td>\n",
       "      <td>M1979787155</td>\n",
       "      <td>0.00</td>\n",
       "      <td>0.00</td>\n",
       "      <td>0</td>\n",
       "      <td>0</td>\n",
       "    </tr>\n",
       "    <tr>\n",
       "      <th>1</th>\n",
       "      <td>1</td>\n",
       "      <td>PAYMENT</td>\n",
       "      <td>1864.28</td>\n",
       "      <td>C1666544295</td>\n",
       "      <td>21249.00</td>\n",
       "      <td>19384.72</td>\n",
       "      <td>M2044282225</td>\n",
       "      <td>0.00</td>\n",
       "      <td>0.00</td>\n",
       "      <td>0</td>\n",
       "      <td>0</td>\n",
       "    </tr>\n",
       "    <tr>\n",
       "      <th>2</th>\n",
       "      <td>1</td>\n",
       "      <td>TRANSFER</td>\n",
       "      <td>181.00</td>\n",
       "      <td>C1305486145</td>\n",
       "      <td>181.00</td>\n",
       "      <td>0.00</td>\n",
       "      <td>C553264065</td>\n",
       "      <td>0.00</td>\n",
       "      <td>0.00</td>\n",
       "      <td>1</td>\n",
       "      <td>0</td>\n",
       "    </tr>\n",
       "    <tr>\n",
       "      <th>3</th>\n",
       "      <td>1</td>\n",
       "      <td>CASH_OUT</td>\n",
       "      <td>181.00</td>\n",
       "      <td>C840083671</td>\n",
       "      <td>181.00</td>\n",
       "      <td>0.00</td>\n",
       "      <td>C38997010</td>\n",
       "      <td>21182.00</td>\n",
       "      <td>0.00</td>\n",
       "      <td>1</td>\n",
       "      <td>0</td>\n",
       "    </tr>\n",
       "    <tr>\n",
       "      <th>4</th>\n",
       "      <td>1</td>\n",
       "      <td>PAYMENT</td>\n",
       "      <td>11668.14</td>\n",
       "      <td>C2048537720</td>\n",
       "      <td>41554.00</td>\n",
       "      <td>29885.86</td>\n",
       "      <td>M1230701703</td>\n",
       "      <td>0.00</td>\n",
       "      <td>0.00</td>\n",
       "      <td>0</td>\n",
       "      <td>0</td>\n",
       "    </tr>\n",
       "    <tr>\n",
       "      <th>...</th>\n",
       "      <td>...</td>\n",
       "      <td>...</td>\n",
       "      <td>...</td>\n",
       "      <td>...</td>\n",
       "      <td>...</td>\n",
       "      <td>...</td>\n",
       "      <td>...</td>\n",
       "      <td>...</td>\n",
       "      <td>...</td>\n",
       "      <td>...</td>\n",
       "      <td>...</td>\n",
       "    </tr>\n",
       "    <tr>\n",
       "      <th>6362615</th>\n",
       "      <td>743</td>\n",
       "      <td>CASH_OUT</td>\n",
       "      <td>339682.13</td>\n",
       "      <td>C786484425</td>\n",
       "      <td>339682.13</td>\n",
       "      <td>0.00</td>\n",
       "      <td>C776919290</td>\n",
       "      <td>0.00</td>\n",
       "      <td>339682.13</td>\n",
       "      <td>1</td>\n",
       "      <td>0</td>\n",
       "    </tr>\n",
       "    <tr>\n",
       "      <th>6362616</th>\n",
       "      <td>743</td>\n",
       "      <td>TRANSFER</td>\n",
       "      <td>6311409.28</td>\n",
       "      <td>C1529008245</td>\n",
       "      <td>6311409.28</td>\n",
       "      <td>0.00</td>\n",
       "      <td>C1881841831</td>\n",
       "      <td>0.00</td>\n",
       "      <td>0.00</td>\n",
       "      <td>1</td>\n",
       "      <td>0</td>\n",
       "    </tr>\n",
       "    <tr>\n",
       "      <th>6362617</th>\n",
       "      <td>743</td>\n",
       "      <td>CASH_OUT</td>\n",
       "      <td>6311409.28</td>\n",
       "      <td>C1162922333</td>\n",
       "      <td>6311409.28</td>\n",
       "      <td>0.00</td>\n",
       "      <td>C1365125890</td>\n",
       "      <td>68488.84</td>\n",
       "      <td>6379898.11</td>\n",
       "      <td>1</td>\n",
       "      <td>0</td>\n",
       "    </tr>\n",
       "    <tr>\n",
       "      <th>6362618</th>\n",
       "      <td>743</td>\n",
       "      <td>TRANSFER</td>\n",
       "      <td>850002.52</td>\n",
       "      <td>C1685995037</td>\n",
       "      <td>850002.52</td>\n",
       "      <td>0.00</td>\n",
       "      <td>C2080388513</td>\n",
       "      <td>0.00</td>\n",
       "      <td>0.00</td>\n",
       "      <td>1</td>\n",
       "      <td>0</td>\n",
       "    </tr>\n",
       "    <tr>\n",
       "      <th>6362619</th>\n",
       "      <td>743</td>\n",
       "      <td>CASH_OUT</td>\n",
       "      <td>850002.52</td>\n",
       "      <td>C1280323807</td>\n",
       "      <td>850002.52</td>\n",
       "      <td>0.00</td>\n",
       "      <td>C873221189</td>\n",
       "      <td>6510099.11</td>\n",
       "      <td>7360101.63</td>\n",
       "      <td>1</td>\n",
       "      <td>0</td>\n",
       "    </tr>\n",
       "  </tbody>\n",
       "</table>\n",
       "<p>6362620 rows × 11 columns</p>\n",
       "</div>"
      ],
      "text/plain": [
       "         step      type      amount     nameOrig  oldbalanceOrg  \\\n",
       "0           1   PAYMENT     9839.64  C1231006815      170136.00   \n",
       "1           1   PAYMENT     1864.28  C1666544295       21249.00   \n",
       "2           1  TRANSFER      181.00  C1305486145         181.00   \n",
       "3           1  CASH_OUT      181.00   C840083671         181.00   \n",
       "4           1   PAYMENT    11668.14  C2048537720       41554.00   \n",
       "...       ...       ...         ...          ...            ...   \n",
       "6362615   743  CASH_OUT   339682.13   C786484425      339682.13   \n",
       "6362616   743  TRANSFER  6311409.28  C1529008245     6311409.28   \n",
       "6362617   743  CASH_OUT  6311409.28  C1162922333     6311409.28   \n",
       "6362618   743  TRANSFER   850002.52  C1685995037      850002.52   \n",
       "6362619   743  CASH_OUT   850002.52  C1280323807      850002.52   \n",
       "\n",
       "         newbalanceOrig     nameDest  oldbalanceDest  newbalanceDest  isFraud  \\\n",
       "0             160296.36  M1979787155            0.00            0.00        0   \n",
       "1              19384.72  M2044282225            0.00            0.00        0   \n",
       "2                  0.00   C553264065            0.00            0.00        1   \n",
       "3                  0.00    C38997010        21182.00            0.00        1   \n",
       "4              29885.86  M1230701703            0.00            0.00        0   \n",
       "...                 ...          ...             ...             ...      ...   \n",
       "6362615            0.00   C776919290            0.00       339682.13        1   \n",
       "6362616            0.00  C1881841831            0.00            0.00        1   \n",
       "6362617            0.00  C1365125890        68488.84      6379898.11        1   \n",
       "6362618            0.00  C2080388513            0.00            0.00        1   \n",
       "6362619            0.00   C873221189      6510099.11      7360101.63        1   \n",
       "\n",
       "         isFlaggedFraud  \n",
       "0                     0  \n",
       "1                     0  \n",
       "2                     0  \n",
       "3                     0  \n",
       "4                     0  \n",
       "...                 ...  \n",
       "6362615               0  \n",
       "6362616               0  \n",
       "6362617               0  \n",
       "6362618               0  \n",
       "6362619               0  \n",
       "\n",
       "[6362620 rows x 11 columns]"
      ]
     },
     "execution_count": 277,
     "metadata": {},
     "output_type": "execute_result"
    }
   ],
   "source": [
    "df = pd.read_csv(r\"C:\\Users\\adm\\Downloads\\Fraud (1).csv\")\n",
    "df"
   ]
  },
  {
   "cell_type": "code",
   "execution_count": 278,
   "id": "c4d9ead1-ea0c-4bd5-9121-33e6c440c646",
   "metadata": {},
   "outputs": [],
   "source": [
    "# Making a copy of the original dataframe\n",
    "df1 = df.copy()"
   ]
  },
  {
   "cell_type": "code",
   "execution_count": 279,
   "id": "b3801fc9-970c-4fb4-afb1-93c244892677",
   "metadata": {},
   "outputs": [],
   "source": [
    "df2 = df1.head(10000)"
   ]
  },
  {
   "cell_type": "code",
   "execution_count": 280,
   "id": "f3555596-f4dc-46e6-8dee-7b8ddb9aea19",
   "metadata": {},
   "outputs": [
    {
     "data": {
      "text/html": [
       "<div>\n",
       "<style scoped>\n",
       "    .dataframe tbody tr th:only-of-type {\n",
       "        vertical-align: middle;\n",
       "    }\n",
       "\n",
       "    .dataframe tbody tr th {\n",
       "        vertical-align: top;\n",
       "    }\n",
       "\n",
       "    .dataframe thead th {\n",
       "        text-align: right;\n",
       "    }\n",
       "</style>\n",
       "<table border=\"1\" class=\"dataframe\">\n",
       "  <thead>\n",
       "    <tr style=\"text-align: right;\">\n",
       "      <th></th>\n",
       "      <th>step</th>\n",
       "      <th>type</th>\n",
       "      <th>amount</th>\n",
       "      <th>nameOrig</th>\n",
       "      <th>oldbalanceOrg</th>\n",
       "      <th>newbalanceOrig</th>\n",
       "      <th>nameDest</th>\n",
       "      <th>oldbalanceDest</th>\n",
       "      <th>newbalanceDest</th>\n",
       "      <th>isFraud</th>\n",
       "      <th>isFlaggedFraud</th>\n",
       "    </tr>\n",
       "  </thead>\n",
       "  <tbody>\n",
       "    <tr>\n",
       "      <th>0</th>\n",
       "      <td>1</td>\n",
       "      <td>PAYMENT</td>\n",
       "      <td>9839.64</td>\n",
       "      <td>C1231006815</td>\n",
       "      <td>170136.0</td>\n",
       "      <td>160296.36</td>\n",
       "      <td>M1979787155</td>\n",
       "      <td>0.0</td>\n",
       "      <td>0.0</td>\n",
       "      <td>0</td>\n",
       "      <td>0</td>\n",
       "    </tr>\n",
       "    <tr>\n",
       "      <th>1</th>\n",
       "      <td>1</td>\n",
       "      <td>PAYMENT</td>\n",
       "      <td>1864.28</td>\n",
       "      <td>C1666544295</td>\n",
       "      <td>21249.0</td>\n",
       "      <td>19384.72</td>\n",
       "      <td>M2044282225</td>\n",
       "      <td>0.0</td>\n",
       "      <td>0.0</td>\n",
       "      <td>0</td>\n",
       "      <td>0</td>\n",
       "    </tr>\n",
       "    <tr>\n",
       "      <th>2</th>\n",
       "      <td>1</td>\n",
       "      <td>TRANSFER</td>\n",
       "      <td>181.00</td>\n",
       "      <td>C1305486145</td>\n",
       "      <td>181.0</td>\n",
       "      <td>0.00</td>\n",
       "      <td>C553264065</td>\n",
       "      <td>0.0</td>\n",
       "      <td>0.0</td>\n",
       "      <td>1</td>\n",
       "      <td>0</td>\n",
       "    </tr>\n",
       "    <tr>\n",
       "      <th>3</th>\n",
       "      <td>1</td>\n",
       "      <td>CASH_OUT</td>\n",
       "      <td>181.00</td>\n",
       "      <td>C840083671</td>\n",
       "      <td>181.0</td>\n",
       "      <td>0.00</td>\n",
       "      <td>C38997010</td>\n",
       "      <td>21182.0</td>\n",
       "      <td>0.0</td>\n",
       "      <td>1</td>\n",
       "      <td>0</td>\n",
       "    </tr>\n",
       "    <tr>\n",
       "      <th>4</th>\n",
       "      <td>1</td>\n",
       "      <td>PAYMENT</td>\n",
       "      <td>11668.14</td>\n",
       "      <td>C2048537720</td>\n",
       "      <td>41554.0</td>\n",
       "      <td>29885.86</td>\n",
       "      <td>M1230701703</td>\n",
       "      <td>0.0</td>\n",
       "      <td>0.0</td>\n",
       "      <td>0</td>\n",
       "      <td>0</td>\n",
       "    </tr>\n",
       "    <tr>\n",
       "      <th>...</th>\n",
       "      <td>...</td>\n",
       "      <td>...</td>\n",
       "      <td>...</td>\n",
       "      <td>...</td>\n",
       "      <td>...</td>\n",
       "      <td>...</td>\n",
       "      <td>...</td>\n",
       "      <td>...</td>\n",
       "      <td>...</td>\n",
       "      <td>...</td>\n",
       "      <td>...</td>\n",
       "    </tr>\n",
       "    <tr>\n",
       "      <th>9995</th>\n",
       "      <td>7</td>\n",
       "      <td>PAYMENT</td>\n",
       "      <td>466.73</td>\n",
       "      <td>C517929856</td>\n",
       "      <td>881.0</td>\n",
       "      <td>414.27</td>\n",
       "      <td>M2128130537</td>\n",
       "      <td>0.0</td>\n",
       "      <td>0.0</td>\n",
       "      <td>0</td>\n",
       "      <td>0</td>\n",
       "    </tr>\n",
       "    <tr>\n",
       "      <th>9996</th>\n",
       "      <td>7</td>\n",
       "      <td>PAYMENT</td>\n",
       "      <td>8239.66</td>\n",
       "      <td>C1483641522</td>\n",
       "      <td>11515.0</td>\n",
       "      <td>3275.34</td>\n",
       "      <td>M1108211033</td>\n",
       "      <td>0.0</td>\n",
       "      <td>0.0</td>\n",
       "      <td>0</td>\n",
       "      <td>0</td>\n",
       "    </tr>\n",
       "    <tr>\n",
       "      <th>9997</th>\n",
       "      <td>7</td>\n",
       "      <td>PAYMENT</td>\n",
       "      <td>6063.34</td>\n",
       "      <td>C728110179</td>\n",
       "      <td>31409.0</td>\n",
       "      <td>25345.66</td>\n",
       "      <td>M277524255</td>\n",
       "      <td>0.0</td>\n",
       "      <td>0.0</td>\n",
       "      <td>0</td>\n",
       "      <td>0</td>\n",
       "    </tr>\n",
       "    <tr>\n",
       "      <th>9998</th>\n",
       "      <td>7</td>\n",
       "      <td>TRANSFER</td>\n",
       "      <td>317806.64</td>\n",
       "      <td>C1021138110</td>\n",
       "      <td>10901.0</td>\n",
       "      <td>0.00</td>\n",
       "      <td>C1935506329</td>\n",
       "      <td>103168.0</td>\n",
       "      <td>0.0</td>\n",
       "      <td>0</td>\n",
       "      <td>0</td>\n",
       "    </tr>\n",
       "    <tr>\n",
       "      <th>9999</th>\n",
       "      <td>7</td>\n",
       "      <td>PAYMENT</td>\n",
       "      <td>5096.16</td>\n",
       "      <td>C299358529</td>\n",
       "      <td>60472.0</td>\n",
       "      <td>55375.84</td>\n",
       "      <td>M176755220</td>\n",
       "      <td>0.0</td>\n",
       "      <td>0.0</td>\n",
       "      <td>0</td>\n",
       "      <td>0</td>\n",
       "    </tr>\n",
       "  </tbody>\n",
       "</table>\n",
       "<p>10000 rows × 11 columns</p>\n",
       "</div>"
      ],
      "text/plain": [
       "      step      type     amount     nameOrig  oldbalanceOrg  newbalanceOrig  \\\n",
       "0        1   PAYMENT    9839.64  C1231006815       170136.0       160296.36   \n",
       "1        1   PAYMENT    1864.28  C1666544295        21249.0        19384.72   \n",
       "2        1  TRANSFER     181.00  C1305486145          181.0            0.00   \n",
       "3        1  CASH_OUT     181.00   C840083671          181.0            0.00   \n",
       "4        1   PAYMENT   11668.14  C2048537720        41554.0        29885.86   \n",
       "...    ...       ...        ...          ...            ...             ...   \n",
       "9995     7   PAYMENT     466.73   C517929856          881.0          414.27   \n",
       "9996     7   PAYMENT    8239.66  C1483641522        11515.0         3275.34   \n",
       "9997     7   PAYMENT    6063.34   C728110179        31409.0        25345.66   \n",
       "9998     7  TRANSFER  317806.64  C1021138110        10901.0            0.00   \n",
       "9999     7   PAYMENT    5096.16   C299358529        60472.0        55375.84   \n",
       "\n",
       "         nameDest  oldbalanceDest  newbalanceDest  isFraud  isFlaggedFraud  \n",
       "0     M1979787155             0.0             0.0        0               0  \n",
       "1     M2044282225             0.0             0.0        0               0  \n",
       "2      C553264065             0.0             0.0        1               0  \n",
       "3       C38997010         21182.0             0.0        1               0  \n",
       "4     M1230701703             0.0             0.0        0               0  \n",
       "...           ...             ...             ...      ...             ...  \n",
       "9995  M2128130537             0.0             0.0        0               0  \n",
       "9996  M1108211033             0.0             0.0        0               0  \n",
       "9997   M277524255             0.0             0.0        0               0  \n",
       "9998  C1935506329        103168.0             0.0        0               0  \n",
       "9999   M176755220             0.0             0.0        0               0  \n",
       "\n",
       "[10000 rows x 11 columns]"
      ]
     },
     "execution_count": 280,
     "metadata": {},
     "output_type": "execute_result"
    }
   ],
   "source": [
    "df2"
   ]
  },
  {
   "cell_type": "markdown",
   "id": "9b2a5616-a337-483c-bf4e-01c473c3544e",
   "metadata": {},
   "source": [
    "# <p style=\"padding:15px; background-color:#FFEBCD; font-family:JetBrains Mono; font-weight:bold; color:F0F8FF; font-size:150%; letter-spacing: 2px; text-align:center; border-radius: 15px 15px; border: 5px solid #2C3333\">Dataset Overview</p>"
   ]
  },
  {
   "cell_type": "code",
   "execution_count": 281,
   "id": "88fcf42c-8830-421d-86da-609412a5a932",
   "metadata": {},
   "outputs": [
    {
     "data": {
      "text/html": [
       "<div>\n",
       "<style scoped>\n",
       "    .dataframe tbody tr th:only-of-type {\n",
       "        vertical-align: middle;\n",
       "    }\n",
       "\n",
       "    .dataframe tbody tr th {\n",
       "        vertical-align: top;\n",
       "    }\n",
       "\n",
       "    .dataframe thead th {\n",
       "        text-align: right;\n",
       "    }\n",
       "</style>\n",
       "<table border=\"1\" class=\"dataframe\">\n",
       "  <thead>\n",
       "    <tr style=\"text-align: right;\">\n",
       "      <th></th>\n",
       "      <th>step</th>\n",
       "      <th>type</th>\n",
       "      <th>amount</th>\n",
       "      <th>nameOrig</th>\n",
       "      <th>oldbalanceOrg</th>\n",
       "      <th>newbalanceOrig</th>\n",
       "      <th>nameDest</th>\n",
       "      <th>oldbalanceDest</th>\n",
       "      <th>newbalanceDest</th>\n",
       "      <th>isFraud</th>\n",
       "      <th>isFlaggedFraud</th>\n",
       "    </tr>\n",
       "  </thead>\n",
       "  <tbody>\n",
       "    <tr>\n",
       "      <th>0</th>\n",
       "      <td>1</td>\n",
       "      <td>PAYMENT</td>\n",
       "      <td>9839.64</td>\n",
       "      <td>C1231006815</td>\n",
       "      <td>170136.0</td>\n",
       "      <td>160296.36</td>\n",
       "      <td>M1979787155</td>\n",
       "      <td>0.0</td>\n",
       "      <td>0.0</td>\n",
       "      <td>0</td>\n",
       "      <td>0</td>\n",
       "    </tr>\n",
       "    <tr>\n",
       "      <th>1</th>\n",
       "      <td>1</td>\n",
       "      <td>PAYMENT</td>\n",
       "      <td>1864.28</td>\n",
       "      <td>C1666544295</td>\n",
       "      <td>21249.0</td>\n",
       "      <td>19384.72</td>\n",
       "      <td>M2044282225</td>\n",
       "      <td>0.0</td>\n",
       "      <td>0.0</td>\n",
       "      <td>0</td>\n",
       "      <td>0</td>\n",
       "    </tr>\n",
       "    <tr>\n",
       "      <th>2</th>\n",
       "      <td>1</td>\n",
       "      <td>TRANSFER</td>\n",
       "      <td>181.00</td>\n",
       "      <td>C1305486145</td>\n",
       "      <td>181.0</td>\n",
       "      <td>0.00</td>\n",
       "      <td>C553264065</td>\n",
       "      <td>0.0</td>\n",
       "      <td>0.0</td>\n",
       "      <td>1</td>\n",
       "      <td>0</td>\n",
       "    </tr>\n",
       "    <tr>\n",
       "      <th>3</th>\n",
       "      <td>1</td>\n",
       "      <td>CASH_OUT</td>\n",
       "      <td>181.00</td>\n",
       "      <td>C840083671</td>\n",
       "      <td>181.0</td>\n",
       "      <td>0.00</td>\n",
       "      <td>C38997010</td>\n",
       "      <td>21182.0</td>\n",
       "      <td>0.0</td>\n",
       "      <td>1</td>\n",
       "      <td>0</td>\n",
       "    </tr>\n",
       "    <tr>\n",
       "      <th>4</th>\n",
       "      <td>1</td>\n",
       "      <td>PAYMENT</td>\n",
       "      <td>11668.14</td>\n",
       "      <td>C2048537720</td>\n",
       "      <td>41554.0</td>\n",
       "      <td>29885.86</td>\n",
       "      <td>M1230701703</td>\n",
       "      <td>0.0</td>\n",
       "      <td>0.0</td>\n",
       "      <td>0</td>\n",
       "      <td>0</td>\n",
       "    </tr>\n",
       "  </tbody>\n",
       "</table>\n",
       "</div>"
      ],
      "text/plain": [
       "   step      type    amount     nameOrig  oldbalanceOrg  newbalanceOrig  \\\n",
       "0     1   PAYMENT   9839.64  C1231006815       170136.0       160296.36   \n",
       "1     1   PAYMENT   1864.28  C1666544295        21249.0        19384.72   \n",
       "2     1  TRANSFER    181.00  C1305486145          181.0            0.00   \n",
       "3     1  CASH_OUT    181.00   C840083671          181.0            0.00   \n",
       "4     1   PAYMENT  11668.14  C2048537720        41554.0        29885.86   \n",
       "\n",
       "      nameDest  oldbalanceDest  newbalanceDest  isFraud  isFlaggedFraud  \n",
       "0  M1979787155             0.0             0.0        0               0  \n",
       "1  M2044282225             0.0             0.0        0               0  \n",
       "2   C553264065             0.0             0.0        1               0  \n",
       "3    C38997010         21182.0             0.0        1               0  \n",
       "4  M1230701703             0.0             0.0        0               0  "
      ]
     },
     "execution_count": 281,
     "metadata": {},
     "output_type": "execute_result"
    }
   ],
   "source": [
    "df2.head()"
   ]
  },
  {
   "cell_type": "code",
   "execution_count": 282,
   "id": "b37e0e93-3f70-43a4-be96-3b0160dd3ed5",
   "metadata": {},
   "outputs": [
    {
     "data": {
      "text/plain": [
       "(10000, 11)"
      ]
     },
     "execution_count": 282,
     "metadata": {},
     "output_type": "execute_result"
    }
   ],
   "source": [
    "df2.shape"
   ]
  },
  {
   "cell_type": "code",
   "execution_count": 283,
   "id": "504b7e06-186b-44e2-94ec-765743f940e7",
   "metadata": {},
   "outputs": [
    {
     "data": {
      "text/html": [
       "<div>\n",
       "<style scoped>\n",
       "    .dataframe tbody tr th:only-of-type {\n",
       "        vertical-align: middle;\n",
       "    }\n",
       "\n",
       "    .dataframe tbody tr th {\n",
       "        vertical-align: top;\n",
       "    }\n",
       "\n",
       "    .dataframe thead th {\n",
       "        text-align: right;\n",
       "    }\n",
       "</style>\n",
       "<table border=\"1\" class=\"dataframe\">\n",
       "  <thead>\n",
       "    <tr style=\"text-align: right;\">\n",
       "      <th></th>\n",
       "      <th>count</th>\n",
       "      <th>mean</th>\n",
       "      <th>std</th>\n",
       "      <th>min</th>\n",
       "      <th>25%</th>\n",
       "      <th>50%</th>\n",
       "      <th>75%</th>\n",
       "      <th>max</th>\n",
       "    </tr>\n",
       "  </thead>\n",
       "  <tbody>\n",
       "    <tr>\n",
       "      <th>step</th>\n",
       "      <td>10000.0</td>\n",
       "      <td>4.178900e+00</td>\n",
       "      <td>2.479821e+00</td>\n",
       "      <td>1.00</td>\n",
       "      <td>1.0000</td>\n",
       "      <td>5.000</td>\n",
       "      <td>7.0000</td>\n",
       "      <td>7.00</td>\n",
       "    </tr>\n",
       "    <tr>\n",
       "      <th>amount</th>\n",
       "      <td>10000.0</td>\n",
       "      <td>1.035467e+05</td>\n",
       "      <td>2.663072e+05</td>\n",
       "      <td>2.39</td>\n",
       "      <td>4397.5300</td>\n",
       "      <td>12858.740</td>\n",
       "      <td>114382.4800</td>\n",
       "      <td>10000000.00</td>\n",
       "    </tr>\n",
       "    <tr>\n",
       "      <th>oldbalanceOrg</th>\n",
       "      <td>10000.0</td>\n",
       "      <td>8.939330e+05</td>\n",
       "      <td>2.135683e+06</td>\n",
       "      <td>0.00</td>\n",
       "      <td>127.6875</td>\n",
       "      <td>21375.555</td>\n",
       "      <td>178271.9200</td>\n",
       "      <td>12930418.44</td>\n",
       "    </tr>\n",
       "    <tr>\n",
       "      <th>newbalanceOrig</th>\n",
       "      <td>10000.0</td>\n",
       "      <td>9.152741e+05</td>\n",
       "      <td>2.181428e+06</td>\n",
       "      <td>0.00</td>\n",
       "      <td>0.0000</td>\n",
       "      <td>10349.940</td>\n",
       "      <td>176093.4400</td>\n",
       "      <td>13010502.78</td>\n",
       "    </tr>\n",
       "    <tr>\n",
       "      <th>oldbalanceDest</th>\n",
       "      <td>10000.0</td>\n",
       "      <td>9.342758e+05</td>\n",
       "      <td>2.676340e+06</td>\n",
       "      <td>0.00</td>\n",
       "      <td>0.0000</td>\n",
       "      <td>0.000</td>\n",
       "      <td>283106.6825</td>\n",
       "      <td>19516116.38</td>\n",
       "    </tr>\n",
       "    <tr>\n",
       "      <th>newbalanceDest</th>\n",
       "      <td>10000.0</td>\n",
       "      <td>1.096606e+06</td>\n",
       "      <td>3.014496e+06</td>\n",
       "      <td>0.00</td>\n",
       "      <td>0.0000</td>\n",
       "      <td>0.000</td>\n",
       "      <td>252055.2400</td>\n",
       "      <td>19169204.93</td>\n",
       "    </tr>\n",
       "    <tr>\n",
       "      <th>isFraud</th>\n",
       "      <td>10000.0</td>\n",
       "      <td>6.800000e-03</td>\n",
       "      <td>8.218537e-02</td>\n",
       "      <td>0.00</td>\n",
       "      <td>0.0000</td>\n",
       "      <td>0.000</td>\n",
       "      <td>0.0000</td>\n",
       "      <td>1.00</td>\n",
       "    </tr>\n",
       "    <tr>\n",
       "      <th>isFlaggedFraud</th>\n",
       "      <td>10000.0</td>\n",
       "      <td>0.000000e+00</td>\n",
       "      <td>0.000000e+00</td>\n",
       "      <td>0.00</td>\n",
       "      <td>0.0000</td>\n",
       "      <td>0.000</td>\n",
       "      <td>0.0000</td>\n",
       "      <td>0.00</td>\n",
       "    </tr>\n",
       "  </tbody>\n",
       "</table>\n",
       "</div>"
      ],
      "text/plain": [
       "                  count          mean           std   min        25%  \\\n",
       "step            10000.0  4.178900e+00  2.479821e+00  1.00     1.0000   \n",
       "amount          10000.0  1.035467e+05  2.663072e+05  2.39  4397.5300   \n",
       "oldbalanceOrg   10000.0  8.939330e+05  2.135683e+06  0.00   127.6875   \n",
       "newbalanceOrig  10000.0  9.152741e+05  2.181428e+06  0.00     0.0000   \n",
       "oldbalanceDest  10000.0  9.342758e+05  2.676340e+06  0.00     0.0000   \n",
       "newbalanceDest  10000.0  1.096606e+06  3.014496e+06  0.00     0.0000   \n",
       "isFraud         10000.0  6.800000e-03  8.218537e-02  0.00     0.0000   \n",
       "isFlaggedFraud  10000.0  0.000000e+00  0.000000e+00  0.00     0.0000   \n",
       "\n",
       "                      50%          75%          max  \n",
       "step                5.000       7.0000         7.00  \n",
       "amount          12858.740  114382.4800  10000000.00  \n",
       "oldbalanceOrg   21375.555  178271.9200  12930418.44  \n",
       "newbalanceOrig  10349.940  176093.4400  13010502.78  \n",
       "oldbalanceDest      0.000  283106.6825  19516116.38  \n",
       "newbalanceDest      0.000  252055.2400  19169204.93  \n",
       "isFraud             0.000       0.0000         1.00  \n",
       "isFlaggedFraud      0.000       0.0000         0.00  "
      ]
     },
     "execution_count": 283,
     "metadata": {},
     "output_type": "execute_result"
    }
   ],
   "source": [
    "### Statiscal Xters of the DataFrame\n",
    "df2.describe().T"
   ]
  },
  {
   "cell_type": "code",
   "execution_count": 284,
   "id": "0241c690-42e2-456d-8f42-922be161b77a",
   "metadata": {},
   "outputs": [
    {
     "data": {
      "text/html": [
       "<div>\n",
       "<style scoped>\n",
       "    .dataframe tbody tr th:only-of-type {\n",
       "        vertical-align: middle;\n",
       "    }\n",
       "\n",
       "    .dataframe tbody tr th {\n",
       "        vertical-align: top;\n",
       "    }\n",
       "\n",
       "    .dataframe thead th {\n",
       "        text-align: right;\n",
       "    }\n",
       "</style>\n",
       "<table border=\"1\" class=\"dataframe\">\n",
       "  <thead>\n",
       "    <tr style=\"text-align: right;\">\n",
       "      <th></th>\n",
       "      <th>count</th>\n",
       "      <th>unique</th>\n",
       "      <th>top</th>\n",
       "      <th>freq</th>\n",
       "    </tr>\n",
       "  </thead>\n",
       "  <tbody>\n",
       "    <tr>\n",
       "      <th>type</th>\n",
       "      <td>10000</td>\n",
       "      <td>5</td>\n",
       "      <td>PAYMENT</td>\n",
       "      <td>5465</td>\n",
       "    </tr>\n",
       "    <tr>\n",
       "      <th>nameOrig</th>\n",
       "      <td>10000</td>\n",
       "      <td>10000</td>\n",
       "      <td>C1231006815</td>\n",
       "      <td>1</td>\n",
       "    </tr>\n",
       "    <tr>\n",
       "      <th>nameDest</th>\n",
       "      <td>10000</td>\n",
       "      <td>6397</td>\n",
       "      <td>C985934102</td>\n",
       "      <td>62</td>\n",
       "    </tr>\n",
       "  </tbody>\n",
       "</table>\n",
       "</div>"
      ],
      "text/plain": [
       "          count unique          top  freq\n",
       "type      10000      5      PAYMENT  5465\n",
       "nameOrig  10000  10000  C1231006815     1\n",
       "nameDest  10000   6397   C985934102    62"
      ]
     },
     "execution_count": 284,
     "metadata": {},
     "output_type": "execute_result"
    }
   ],
   "source": [
    "### Summary of statistics for Numerical column\n",
    "df2.describe(include= \"object\").T"
   ]
  },
  {
   "cell_type": "markdown",
   "id": "db6c4fcc-5e67-4e4b-8e58-42d6c53b3d0e",
   "metadata": {},
   "source": [
    "# <p style=\"padding:15px; background-color:#FFEBCD; font-family:JetBrains Mono; font-weight:bold; color:F0F8FF; font-size:150%; letter-spacing: 2px; text-align:center; border-radius: 15px 15px; border: 5px solid #2C3333\">Dataset preprocessing</p>"
   ]
  },
  {
   "cell_type": "code",
   "execution_count": 285,
   "id": "8f2be7cf-74a6-4a98-8083-5ac9be172cfd",
   "metadata": {},
   "outputs": [
    {
     "name": "stdout",
     "output_type": "stream",
     "text": [
      "<class 'pandas.core.frame.DataFrame'>\n",
      "RangeIndex: 10000 entries, 0 to 9999\n",
      "Data columns (total 11 columns):\n",
      " #   Column          Non-Null Count  Dtype  \n",
      "---  ------          --------------  -----  \n",
      " 0   step            10000 non-null  int64  \n",
      " 1   type            10000 non-null  object \n",
      " 2   amount          10000 non-null  float64\n",
      " 3   nameOrig        10000 non-null  object \n",
      " 4   oldbalanceOrg   10000 non-null  float64\n",
      " 5   newbalanceOrig  10000 non-null  float64\n",
      " 6   nameDest        10000 non-null  object \n",
      " 7   oldbalanceDest  10000 non-null  float64\n",
      " 8   newbalanceDest  10000 non-null  float64\n",
      " 9   isFraud         10000 non-null  int64  \n",
      " 10  isFlaggedFraud  10000 non-null  int64  \n",
      "dtypes: float64(5), int64(3), object(3)\n",
      "memory usage: 859.5+ KB\n"
     ]
    }
   ],
   "source": [
    "df2.info()"
   ]
  },
  {
   "cell_type": "code",
   "execution_count": 286,
   "id": "77bbc574-2b67-41cf-bfd4-a0b7fd4469dc",
   "metadata": {},
   "outputs": [
    {
     "data": {
      "text/html": [
       "<div>\n",
       "<style scoped>\n",
       "    .dataframe tbody tr th:only-of-type {\n",
       "        vertical-align: middle;\n",
       "    }\n",
       "\n",
       "    .dataframe tbody tr th {\n",
       "        vertical-align: top;\n",
       "    }\n",
       "\n",
       "    .dataframe thead th {\n",
       "        text-align: right;\n",
       "    }\n",
       "</style>\n",
       "<table border=\"1\" class=\"dataframe\">\n",
       "  <thead>\n",
       "    <tr style=\"text-align: right;\">\n",
       "      <th></th>\n",
       "      <th>step</th>\n",
       "      <th>type</th>\n",
       "      <th>amount</th>\n",
       "      <th>nameOrig</th>\n",
       "      <th>oldbalanceOrg</th>\n",
       "      <th>newbalanceOrig</th>\n",
       "      <th>nameDest</th>\n",
       "      <th>oldbalanceDest</th>\n",
       "      <th>newbalanceDest</th>\n",
       "      <th>isFraud</th>\n",
       "      <th>isFlaggedFraud</th>\n",
       "    </tr>\n",
       "  </thead>\n",
       "  <tbody>\n",
       "    <tr>\n",
       "      <th>0</th>\n",
       "      <td>1</td>\n",
       "      <td>PAYMENT</td>\n",
       "      <td>9839.64</td>\n",
       "      <td>C1231006815</td>\n",
       "      <td>170136.0</td>\n",
       "      <td>160296.36</td>\n",
       "      <td>M1979787155</td>\n",
       "      <td>0.0</td>\n",
       "      <td>0.0</td>\n",
       "      <td>0</td>\n",
       "      <td>0</td>\n",
       "    </tr>\n",
       "    <tr>\n",
       "      <th>1</th>\n",
       "      <td>1</td>\n",
       "      <td>PAYMENT</td>\n",
       "      <td>1864.28</td>\n",
       "      <td>C1666544295</td>\n",
       "      <td>21249.0</td>\n",
       "      <td>19384.72</td>\n",
       "      <td>M2044282225</td>\n",
       "      <td>0.0</td>\n",
       "      <td>0.0</td>\n",
       "      <td>0</td>\n",
       "      <td>0</td>\n",
       "    </tr>\n",
       "    <tr>\n",
       "      <th>2</th>\n",
       "      <td>1</td>\n",
       "      <td>TRANSFER</td>\n",
       "      <td>181.00</td>\n",
       "      <td>C1305486145</td>\n",
       "      <td>181.0</td>\n",
       "      <td>0.00</td>\n",
       "      <td>C553264065</td>\n",
       "      <td>0.0</td>\n",
       "      <td>0.0</td>\n",
       "      <td>1</td>\n",
       "      <td>0</td>\n",
       "    </tr>\n",
       "    <tr>\n",
       "      <th>3</th>\n",
       "      <td>1</td>\n",
       "      <td>CASH_OUT</td>\n",
       "      <td>181.00</td>\n",
       "      <td>C840083671</td>\n",
       "      <td>181.0</td>\n",
       "      <td>0.00</td>\n",
       "      <td>C38997010</td>\n",
       "      <td>21182.0</td>\n",
       "      <td>0.0</td>\n",
       "      <td>1</td>\n",
       "      <td>0</td>\n",
       "    </tr>\n",
       "    <tr>\n",
       "      <th>4</th>\n",
       "      <td>1</td>\n",
       "      <td>PAYMENT</td>\n",
       "      <td>11668.14</td>\n",
       "      <td>C2048537720</td>\n",
       "      <td>41554.0</td>\n",
       "      <td>29885.86</td>\n",
       "      <td>M1230701703</td>\n",
       "      <td>0.0</td>\n",
       "      <td>0.0</td>\n",
       "      <td>0</td>\n",
       "      <td>0</td>\n",
       "    </tr>\n",
       "  </tbody>\n",
       "</table>\n",
       "</div>"
      ],
      "text/plain": [
       "   step      type    amount     nameOrig  oldbalanceOrg  newbalanceOrig  \\\n",
       "0     1   PAYMENT   9839.64  C1231006815       170136.0       160296.36   \n",
       "1     1   PAYMENT   1864.28  C1666544295        21249.0        19384.72   \n",
       "2     1  TRANSFER    181.00  C1305486145          181.0            0.00   \n",
       "3     1  CASH_OUT    181.00   C840083671          181.0            0.00   \n",
       "4     1   PAYMENT  11668.14  C2048537720        41554.0        29885.86   \n",
       "\n",
       "      nameDest  oldbalanceDest  newbalanceDest  isFraud  isFlaggedFraud  \n",
       "0  M1979787155             0.0             0.0        0               0  \n",
       "1  M2044282225             0.0             0.0        0               0  \n",
       "2   C553264065             0.0             0.0        1               0  \n",
       "3    C38997010         21182.0             0.0        1               0  \n",
       "4  M1230701703             0.0             0.0        0               0  "
      ]
     },
     "execution_count": 286,
     "metadata": {},
     "output_type": "execute_result"
    }
   ],
   "source": [
    "df2.head()"
   ]
  },
  {
   "cell_type": "markdown",
   "id": "05c79081-cb71-43de-bbe7-cddf8e03bd9a",
   "metadata": {},
   "source": [
    "## Checking missing value"
   ]
  },
  {
   "cell_type": "code",
   "execution_count": 287,
   "id": "9b3c4a73-20a5-4f9d-96de-24a545dc29f3",
   "metadata": {},
   "outputs": [
    {
     "data": {
      "text/html": [
       "<div>\n",
       "<style scoped>\n",
       "    .dataframe tbody tr th:only-of-type {\n",
       "        vertical-align: middle;\n",
       "    }\n",
       "\n",
       "    .dataframe tbody tr th {\n",
       "        vertical-align: top;\n",
       "    }\n",
       "\n",
       "    .dataframe thead th {\n",
       "        text-align: right;\n",
       "    }\n",
       "</style>\n",
       "<table border=\"1\" class=\"dataframe\">\n",
       "  <thead>\n",
       "    <tr style=\"text-align: right;\">\n",
       "      <th></th>\n",
       "      <th>step</th>\n",
       "      <th>type</th>\n",
       "      <th>amount</th>\n",
       "      <th>nameOrig</th>\n",
       "      <th>oldbalanceOrg</th>\n",
       "      <th>newbalanceOrig</th>\n",
       "      <th>nameDest</th>\n",
       "      <th>oldbalanceDest</th>\n",
       "      <th>newbalanceDest</th>\n",
       "      <th>isFraud</th>\n",
       "      <th>isFlaggedFraud</th>\n",
       "    </tr>\n",
       "  </thead>\n",
       "  <tbody>\n",
       "    <tr>\n",
       "      <th>NaN value</th>\n",
       "      <td>0</td>\n",
       "      <td>0</td>\n",
       "      <td>0</td>\n",
       "      <td>0</td>\n",
       "      <td>0</td>\n",
       "      <td>0</td>\n",
       "      <td>0</td>\n",
       "      <td>0</td>\n",
       "      <td>0</td>\n",
       "      <td>0</td>\n",
       "      <td>0</td>\n",
       "    </tr>\n",
       "  </tbody>\n",
       "</table>\n",
       "</div>"
      ],
      "text/plain": [
       "           step  type  amount  nameOrig  oldbalanceOrg  newbalanceOrig  \\\n",
       "NaN value     0     0       0         0              0               0   \n",
       "\n",
       "           nameDest  oldbalanceDest  newbalanceDest  isFraud  isFlaggedFraud  \n",
       "NaN value         0               0               0        0               0  "
      ]
     },
     "execution_count": 287,
     "metadata": {},
     "output_type": "execute_result"
    }
   ],
   "source": [
    "df2.isnull().sum().to_frame('NaN value').T"
   ]
  },
  {
   "cell_type": "code",
   "execution_count": 288,
   "id": "ae7db9c3-dd8e-44ce-9662-91b094f32fd6",
   "metadata": {},
   "outputs": [
    {
     "data": {
      "text/plain": [
       "step              0\n",
       "type              0\n",
       "amount            0\n",
       "nameOrig          0\n",
       "oldbalanceOrg     0\n",
       "newbalanceOrig    0\n",
       "nameDest          0\n",
       "oldbalanceDest    0\n",
       "newbalanceDest    0\n",
       "isFraud           0\n",
       "isFlaggedFraud    0\n",
       "dtype: int64"
      ]
     },
     "execution_count": 288,
     "metadata": {},
     "output_type": "execute_result"
    }
   ],
   "source": [
    "df2.isna().sum()"
   ]
  },
  {
   "cell_type": "markdown",
   "id": "e6d4bef3-bef3-4a5a-b0d6-7a94837a6428",
   "metadata": {},
   "source": [
    "## Checking for duplicate "
   ]
  },
  {
   "cell_type": "code",
   "execution_count": 289,
   "id": "6844deee-4d5e-4743-9d4b-f3d76c48c5df",
   "metadata": {},
   "outputs": [
    {
     "data": {
      "text/plain": [
       "0"
      ]
     },
     "execution_count": 289,
     "metadata": {},
     "output_type": "execute_result"
    }
   ],
   "source": [
    "df2.duplicated().sum()"
   ]
  },
  {
   "cell_type": "markdown",
   "id": "2369ab58-cbdd-4305-961d-09f66857747b",
   "metadata": {},
   "source": [
    "## Checking count of unique values of each columns"
   ]
  },
  {
   "cell_type": "code",
   "execution_count": 290,
   "id": "b2a2ec77-40ac-4095-b6ca-1a984361a306",
   "metadata": {},
   "outputs": [
    {
     "name": "stdout",
     "output_type": "stream",
     "text": [
      "step: 7\n",
      "type: 5\n",
      "amount: 9954\n",
      "nameOrig: 10000\n",
      "oldbalanceOrg: 7276\n",
      "newbalanceOrig: 5914\n",
      "nameDest: 6397\n",
      "oldbalanceDest: 4317\n",
      "newbalanceDest: 1501\n",
      "isFraud: 2\n",
      "isFlaggedFraud: 1\n"
     ]
    }
   ],
   "source": [
    "### Iterating through each columns\n",
    "for col in df2:\n",
    "    print(f\"{col}: {df2[col].nunique()}\")"
   ]
  },
  {
   "cell_type": "markdown",
   "id": "31f7ad60-ac04-4577-88a7-fb1a86016a10",
   "metadata": {},
   "source": [
    "## Checking the number of unique value of each categorical data"
   ]
  },
  {
   "cell_type": "code",
   "execution_count": 291,
   "id": "ae59c0d5-9c5c-46f8-add0-6d2f6ded0048",
   "metadata": {},
   "outputs": [
    {
     "data": {
      "text/plain": [
       "['nameOrig', 'nameDest', 'type']"
      ]
     },
     "execution_count": 291,
     "metadata": {},
     "output_type": "execute_result"
    }
   ],
   "source": [
    "### This brings the list of Non-numeric columns in the Dataframe\n",
    "columns = df2.columns\n",
    "num_columns = df2._get_numeric_data().columns\n",
    "list(set(columns) - set(num_columns))"
   ]
  },
  {
   "cell_type": "code",
   "execution_count": 292,
   "id": "4aaf130f-2306-4e0b-b139-056bbfa28112",
   "metadata": {},
   "outputs": [
    {
     "data": {
      "text/plain": [
       "type            5\n",
       "nameOrig    10000\n",
       "nameDest     6397\n",
       "Name: unique, dtype: object"
      ]
     },
     "execution_count": 292,
     "metadata": {},
     "output_type": "execute_result"
    }
   ],
   "source": [
    "number_cat= (df2.describe(include= \"object\").T)[\"unique\"]\n",
    "number_cat"
   ]
  },
  {
   "cell_type": "markdown",
   "id": "b6b15046-62fc-4213-b2fa-60816524ad46",
   "metadata": {},
   "source": [
    "### Plotting categorical columns"
   ]
  },
  {
   "cell_type": "code",
   "execution_count": 293,
   "id": "d58f2180-3e96-4c58-8c8b-73d962b94451",
   "metadata": {},
   "outputs": [],
   "source": [
    "def bar_plot(a , b ,col,hatches):\n",
    "\n",
    "    fig=plt.figure(figsize=(12,10))\n",
    "\n",
    "    for i in range(1, ((a*b)+1)):\n",
    "        fig.add_subplot(b, a, i)\n",
    "        sns.countplot(data =df2, x=df2[col[i-2]], hatch=hatches[i-2] )  \n",
    "        plt.xlabel (col[i-2] , fontsize = 20)\n",
    "        \n",
    "    plt.show()"
   ]
  },
  {
   "cell_type": "code",
   "execution_count": 294,
   "id": "bd120911-b30e-4bdb-9235-2d9e8a97e15d",
   "metadata": {},
   "outputs": [
    {
     "data": {
      "image/png": "[encoded data removed]",
      "text/plain": [
       "<Figure size 1200x1000 with 2 Axes>"
      ]
     },
     "metadata": {},
     "output_type": "display_data"
    }
   ],
   "source": [
    "col = [\"type\"]\n",
    "hatches = ['||']\n",
    "bar_plot(1,2,col,hatches)"
   ]
  },
  {
   "cell_type": "markdown",
   "id": "e9eedc18-b978-4652-9bbe-f71e97014fe8",
   "metadata": {},
   "source": [
    "# <p style=\"padding:15px; background-color:#FFEBCD; font-family:JetBrains Mono; font-weight:bold; color:F0F8FF; font-size:150%; letter-spacing: 2px; text-align:center; border-radius: 15px 15px; border: 5px solid #2C3333\">Visualization</p>"
   ]
  },
  {
   "cell_type": "markdown",
   "id": "b0a6f253-c256-461c-8a3d-12dbc07d87a0",
   "metadata": {},
   "source": [
    "## Correlation"
   ]
  },
  {
   "cell_type": "code",
   "execution_count": 295,
   "id": "6e283d16-3c88-4c84-b175-a6b756c094ee",
   "metadata": {},
   "outputs": [],
   "source": [
    "### Dropping the 'isFlaggedFraud' column\n",
    "df2.drop('isFlaggedFraud', axis=1, inplace=True)"
   ]
  },
  {
   "cell_type": "code",
   "execution_count": 296,
   "id": "beeddeb8-09e4-4d1d-9724-48ec7ddb0789",
   "metadata": {},
   "outputs": [
    {
     "data": {
      "text/plain": [
       "step             -0.011858\n",
       "amount            0.133586\n",
       "oldbalanceOrg    -0.012607\n",
       "newbalanceOrig   -0.033084\n",
       "oldbalanceDest   -0.021004\n",
       "newbalanceDest   -0.010887\n",
       "isFraud           1.000000\n",
       "Name: isFraud, dtype: float64"
      ]
     },
     "execution_count": 296,
     "metadata": {},
     "output_type": "execute_result"
    }
   ],
   "source": [
    "# The \"amount\" column has a positive correlation with the target variable ('isFraud\")\n",
    "# In Essence the \"amount\" column would determine if the transaction is Fraudulent.\n",
    "df2.select_dtypes(\"number\").corr()[\"isFraud\"]"
   ]
  },
  {
   "cell_type": "code",
   "execution_count": 297,
   "id": "55743655-c812-497a-8b31-a6a9b983b320",
   "metadata": {},
   "outputs": [],
   "source": [
    "### Dropping some of the columns that are negatively correlated\n",
    "df2.drop(columns=['step', 'newbalanceDest', 'newbalanceOrig', 'nameDest', 'nameOrig'], inplace=True)"
   ]
  },
  {
   "cell_type": "code",
   "execution_count": 298,
   "id": "465ec9b0-85e3-4b05-80aa-4a943fb3da36",
   "metadata": {},
   "outputs": [
    {
     "data": {
      "text/html": [
       "<div>\n",
       "<style scoped>\n",
       "    .dataframe tbody tr th:only-of-type {\n",
       "        vertical-align: middle;\n",
       "    }\n",
       "\n",
       "    .dataframe tbody tr th {\n",
       "        vertical-align: top;\n",
       "    }\n",
       "\n",
       "    .dataframe thead th {\n",
       "        text-align: right;\n",
       "    }\n",
       "</style>\n",
       "<table border=\"1\" class=\"dataframe\">\n",
       "  <thead>\n",
       "    <tr style=\"text-align: right;\">\n",
       "      <th></th>\n",
       "      <th>isFraud</th>\n",
       "    </tr>\n",
       "  </thead>\n",
       "  <tbody>\n",
       "    <tr>\n",
       "      <th>isFraud</th>\n",
       "      <td>1.0</td>\n",
       "    </tr>\n",
       "  </tbody>\n",
       "</table>\n",
       "</div>"
      ],
      "text/plain": [
       "         isFraud\n",
       "isFraud      1.0"
      ]
     },
     "execution_count": 298,
     "metadata": {},
     "output_type": "execute_result"
    }
   ],
   "source": [
    "int_columns = df2.select_dtypes(include='int64')\n",
    "correlation = int_columns.corr()\n",
    "correlation"
   ]
  },
  {
   "cell_type": "code",
   "execution_count": 299,
   "id": "50546257-5a8a-47eb-aade-ffe8db5d7636",
   "metadata": {},
   "outputs": [
    {
     "data": {
      "text/plain": [
       "Index(['amount', 'oldbalanceOrg', 'oldbalanceDest', 'isFraud'], dtype='object')"
      ]
     },
     "execution_count": 299,
     "metadata": {},
     "output_type": "execute_result"
    }
   ],
   "source": [
    "numerical_cols = df2.select_dtypes(\"number\").columns\n",
    "numerical_cols"
   ]
  },
  {
   "cell_type": "code",
   "execution_count": 300,
   "id": "88e89d70-2ceb-43b9-b9d7-3007ae8a70d7",
   "metadata": {},
   "outputs": [
    {
     "data": {
      "image/png": "[encoded data removed]",
      "text/plain": [
       "<Figure size 1600x1200 with 4 Axes>"
      ]
     },
     "metadata": {},
     "output_type": "display_data"
    }
   ],
   "source": [
    "# Below we can observe all numerical columns are skewed except the 'step' column \n",
    "# which indicates the likelyhood of finding extreme values on them\n",
    "df2[numerical_cols].hist(figsize=(16, 12));"
   ]
  },
  {
   "cell_type": "code",
   "execution_count": 301,
   "id": "941d7722-7c35-4092-92a8-978d430c6f08",
   "metadata": {},
   "outputs": [
    {
     "data": {
      "text/plain": [
       "amount            13.668385\n",
       "isFraud           12.004537\n",
       "oldbalanceDest     3.904169\n",
       "oldbalanceOrg      2.756599\n",
       "dtype: float64"
      ]
     },
     "execution_count": 301,
     "metadata": {},
     "output_type": "execute_result"
    }
   ],
   "source": [
    "df2[numerical_cols].skew().sort_values(ascending= False)"
   ]
  },
  {
   "cell_type": "code",
   "execution_count": 302,
   "id": "d914d55b-5da5-4f9f-b10d-6270de9d1542",
   "metadata": {
    "scrolled": true
   },
   "outputs": [
    {
     "data": {
      "image/png": "[encoded data removed]",
      "text/plain": [
       "<Figure size 640x480 with 2 Axes>"
      ]
     },
     "metadata": {},
     "output_type": "display_data"
    }
   ],
   "source": [
    "sns.heatmap(data=df2.select_dtypes(\"number\").corr(), cmap=\"viridis\",  annot=True);"
   ]
  },
  {
   "cell_type": "markdown",
   "id": "332fb8e4-bc8f-41b7-9f10-c0611df44321",
   "metadata": {},
   "source": [
    "## Relation between amount and numeric features"
   ]
  },
  {
   "cell_type": "code",
   "execution_count": 303,
   "id": "96dab925-c7f1-4ba7-8353-27fe432a5698",
   "metadata": {
    "scrolled": true
   },
   "outputs": [
    {
     "data": {
      "image/png": "[encoded data removed]",
      "text/plain": [
       "<Figure size 900x900 with 6 Axes>"
      ]
     },
     "metadata": {},
     "output_type": "display_data"
    }
   ],
   "source": [
    "fig, ax = plt.subplots(nrows=3 ,ncols=2, figsize=(10,10), dpi=90)\n",
    "num_features = [\"oldbalanceOrg\", \"oldbalanceDest\", \"isFraud\"]\n",
    "target = 'amount'\n",
    "\n",
    "for i in range(len(num_features)):\n",
    "    row = i%3\n",
    "    col = i//3\n",
    "    ax[row,col].scatter(df2[num_features[i]], df2[target], color=\"blue\", edgecolors='w', linewidths=0.3)\n",
    "    ax[row,col].set_title('{} vs. {}'.format(target, num_features[i]), size = 12)\n",
    "    ax[row,col].set_xlabel(num_features[i], size = 12)\n",
    "    ax[row,col].set_ylabel(target, size = 12)\n",
    "    ax[row,col].grid()\n",
    "\n",
    "#plt.suptitle('amount vs. Numerical Features', size = 20)\n",
    "plt.tight_layout()\n",
    "plt.show()"
   ]
  },
  {
   "cell_type": "code",
   "execution_count": 304,
   "id": "28288f2f-a11b-432a-8a29-3333e5118a49",
   "metadata": {},
   "outputs": [],
   "source": [
    "# Checking for outliers in the dataset\n",
    "def outliers_func():\n",
    "        outliers_cols = []\n",
    "\n",
    "        for col in df2.select_dtypes(\"number\"):\n",
    "            q1 = df2[col].quantile(.25)\n",
    "            q3 = df2[col].quantile(.75)\n",
    "            iqr = q3 - q1\n",
    "            lower_out= (df2[col] < (q1 - (1.5*iqr))).sum()\n",
    "            upper_out = (df2[col]  > (q3 + (1.5*iqr))).sum()\n",
    "\n",
    "            if lower_out > 0 or upper_out > 0 :\n",
    "                outliers_cols.append(col)\n",
    "\n",
    "        return outliers_cols"
   ]
  },
  {
   "cell_type": "code",
   "execution_count": 305,
   "id": "344c13aa-151b-4e54-862e-fd63a7ebdfbe",
   "metadata": {},
   "outputs": [],
   "source": [
    "# calling the outliers function\n",
    "outlier_columns = outliers_func()"
   ]
  },
  {
   "cell_type": "code",
   "execution_count": 306,
   "id": "c68f642a-1181-4ee0-ad2f-d5124268a53e",
   "metadata": {},
   "outputs": [
    {
     "data": {
      "text/plain": [
       "['amount', 'oldbalanceOrg', 'oldbalanceDest', 'isFraud']"
      ]
     },
     "execution_count": 306,
     "metadata": {},
     "output_type": "execute_result"
    }
   ],
   "source": [
    "# calling the outliers function\n",
    "outlier_columns"
   ]
  },
  {
   "cell_type": "markdown",
   "id": "bc5f1c7f-e84f-4700-a06d-df487ba19f19",
   "metadata": {},
   "source": [
    "# <p style=\"padding:15px; background-color:#FFEBCD; font-family:JetBrains Mono; font-weight:bold; color:F0F8FF; font-size:150%; letter-spacing: 2px; text-align:center; border-radius: 15px 15px; border: 5px solid #2C3333\">Visualizing Outliers</p>"
   ]
  },
  {
   "cell_type": "code",
   "execution_count": 307,
   "id": "9c970092-95ef-4957-a46a-cf40c117a59d",
   "metadata": {},
   "outputs": [
    {
     "data": {
      "image/png": "[encoded data removed]",
      "text/plain": [
       "<Figure size 1600x1200 with 4 Axes>"
      ]
     },
     "metadata": {},
     "output_type": "display_data"
    }
   ],
   "source": [
    "# Visualizing the boxplot for the columns with outliers\n",
    "\n",
    "plt.figure(figsize=(16,12))\n",
    "for index, col in enumerate(outlier_columns):\n",
    "    plt.subplot(4,4, index+1)\n",
    "    sns.boxplot(df1[col])\n",
    "plt.tight_layout()\n",
    "plt.show()"
   ]
  },
  {
   "cell_type": "markdown",
   "id": "0e51cb93-ebc9-44e9-a66d-58035cfe5e70",
   "metadata": {},
   "source": [
    "# <p style=\"padding:15px; background-color:#FFEBCD; font-family:JetBrains Mono; font-weight:bold; color:F0F8FF; font-size:150%; letter-spacing: 2px; text-align:center; border-radius: 15px 15px; border: 5px solid #2C3333\">Data Transformation</p>"
   ]
  },
  {
   "cell_type": "code",
   "execution_count": 308,
   "id": "65467309-f7f7-421e-861e-c4eb2e575a68",
   "metadata": {},
   "outputs": [],
   "source": [
    "from sklearn import preprocessing\n",
    "label= preprocessing.LabelEncoder()"
   ]
  },
  {
   "cell_type": "code",
   "execution_count": 309,
   "id": "093c2a4d-4f82-4bb4-8efe-7ac1c8b45484",
   "metadata": {},
   "outputs": [],
   "source": [
    "data_enc = df2.select_dtypes(include=['object']).columns\n",
    "for column in data_enc: #Convert categorical Data to Numerical\n",
    "    df2[column] = label.fit_transform(df2[column])\n",
    "    df2.head()"
   ]
  },
  {
   "cell_type": "code",
   "execution_count": 310,
   "id": "5735a6b1-1b3e-4732-9ae0-fe6e07d91a7b",
   "metadata": {
    "scrolled": true
   },
   "outputs": [
    {
     "data": {
      "text/html": [
       "<div>\n",
       "<style scoped>\n",
       "    .dataframe tbody tr th:only-of-type {\n",
       "        vertical-align: middle;\n",
       "    }\n",
       "\n",
       "    .dataframe tbody tr th {\n",
       "        vertical-align: top;\n",
       "    }\n",
       "\n",
       "    .dataframe thead th {\n",
       "        text-align: right;\n",
       "    }\n",
       "</style>\n",
       "<table border=\"1\" class=\"dataframe\">\n",
       "  <thead>\n",
       "    <tr style=\"text-align: right;\">\n",
       "      <th></th>\n",
       "      <th>type</th>\n",
       "      <th>amount</th>\n",
       "      <th>oldbalanceOrg</th>\n",
       "      <th>oldbalanceDest</th>\n",
       "      <th>isFraud</th>\n",
       "    </tr>\n",
       "  </thead>\n",
       "  <tbody>\n",
       "    <tr>\n",
       "      <th>0</th>\n",
       "      <td>3</td>\n",
       "      <td>9839.64</td>\n",
       "      <td>170136.0</td>\n",
       "      <td>0.0</td>\n",
       "      <td>0</td>\n",
       "    </tr>\n",
       "    <tr>\n",
       "      <th>1</th>\n",
       "      <td>3</td>\n",
       "      <td>1864.28</td>\n",
       "      <td>21249.0</td>\n",
       "      <td>0.0</td>\n",
       "      <td>0</td>\n",
       "    </tr>\n",
       "    <tr>\n",
       "      <th>2</th>\n",
       "      <td>4</td>\n",
       "      <td>181.00</td>\n",
       "      <td>181.0</td>\n",
       "      <td>0.0</td>\n",
       "      <td>1</td>\n",
       "    </tr>\n",
       "    <tr>\n",
       "      <th>3</th>\n",
       "      <td>1</td>\n",
       "      <td>181.00</td>\n",
       "      <td>181.0</td>\n",
       "      <td>21182.0</td>\n",
       "      <td>1</td>\n",
       "    </tr>\n",
       "    <tr>\n",
       "      <th>4</th>\n",
       "      <td>3</td>\n",
       "      <td>11668.14</td>\n",
       "      <td>41554.0</td>\n",
       "      <td>0.0</td>\n",
       "      <td>0</td>\n",
       "    </tr>\n",
       "    <tr>\n",
       "      <th>...</th>\n",
       "      <td>...</td>\n",
       "      <td>...</td>\n",
       "      <td>...</td>\n",
       "      <td>...</td>\n",
       "      <td>...</td>\n",
       "    </tr>\n",
       "    <tr>\n",
       "      <th>9995</th>\n",
       "      <td>3</td>\n",
       "      <td>466.73</td>\n",
       "      <td>881.0</td>\n",
       "      <td>0.0</td>\n",
       "      <td>0</td>\n",
       "    </tr>\n",
       "    <tr>\n",
       "      <th>9996</th>\n",
       "      <td>3</td>\n",
       "      <td>8239.66</td>\n",
       "      <td>11515.0</td>\n",
       "      <td>0.0</td>\n",
       "      <td>0</td>\n",
       "    </tr>\n",
       "    <tr>\n",
       "      <th>9997</th>\n",
       "      <td>3</td>\n",
       "      <td>6063.34</td>\n",
       "      <td>31409.0</td>\n",
       "      <td>0.0</td>\n",
       "      <td>0</td>\n",
       "    </tr>\n",
       "    <tr>\n",
       "      <th>9998</th>\n",
       "      <td>4</td>\n",
       "      <td>317806.64</td>\n",
       "      <td>10901.0</td>\n",
       "      <td>103168.0</td>\n",
       "      <td>0</td>\n",
       "    </tr>\n",
       "    <tr>\n",
       "      <th>9999</th>\n",
       "      <td>3</td>\n",
       "      <td>5096.16</td>\n",
       "      <td>60472.0</td>\n",
       "      <td>0.0</td>\n",
       "      <td>0</td>\n",
       "    </tr>\n",
       "  </tbody>\n",
       "</table>\n",
       "<p>10000 rows × 5 columns</p>\n",
       "</div>"
      ],
      "text/plain": [
       "      type     amount  oldbalanceOrg  oldbalanceDest  isFraud\n",
       "0        3    9839.64       170136.0             0.0        0\n",
       "1        3    1864.28        21249.0             0.0        0\n",
       "2        4     181.00          181.0             0.0        1\n",
       "3        1     181.00          181.0         21182.0        1\n",
       "4        3   11668.14        41554.0             0.0        0\n",
       "...    ...        ...            ...             ...      ...\n",
       "9995     3     466.73          881.0             0.0        0\n",
       "9996     3    8239.66        11515.0             0.0        0\n",
       "9997     3    6063.34        31409.0             0.0        0\n",
       "9998     4  317806.64        10901.0        103168.0        0\n",
       "9999     3    5096.16        60472.0             0.0        0\n",
       "\n",
       "[10000 rows x 5 columns]"
      ]
     },
     "execution_count": 310,
     "metadata": {},
     "output_type": "execute_result"
    }
   ],
   "source": [
    "df2"
   ]
  },
  {
   "cell_type": "code",
   "execution_count": 311,
   "id": "083131a5-bf80-4b15-a65e-14a55f8a8209",
   "metadata": {},
   "outputs": [
    {
     "data": {
      "text/plain": [
       "array([0, 1], dtype=int64)"
      ]
     },
     "execution_count": 311,
     "metadata": {},
     "output_type": "execute_result"
    }
   ],
   "source": [
    "df2['isFraud'].unique()"
   ]
  },
  {
   "cell_type": "markdown",
   "id": "7109b0c5-08d1-40e8-9554-67df00c88de4",
   "metadata": {},
   "source": [
    "# <p style=\"padding:15px; background-color:#FFEBCD; font-family:JetBrains Mono; font-weight:bold; color:F0F8FF; font-size:150%; letter-spacing: 2px; text-align:center; border-radius: 15px 15px; border: 5px solid #2C3333\">Feature Selection</p>"
   ]
  },
  {
   "cell_type": "code",
   "execution_count": 312,
   "id": "23aa54b3-13c5-4c42-89b6-d17d195fa781",
   "metadata": {},
   "outputs": [],
   "source": [
    "# Select target variable and features\n",
    "# For simplicity, let's assume all columns except the target variable are features.\n",
    "# split dataset into training and testing data\n",
    "y = df2[\"isFraud\"] # Target variable\n",
    "x = df2.drop(\"isFraud\", axis=1) # Features"
   ]
  },
  {
   "cell_type": "code",
   "execution_count": 313,
   "id": "99f36b0c-9a60-41fc-aff6-bf78e9ddd8c6",
   "metadata": {},
   "outputs": [
    {
     "data": {
      "text/html": [
       "<div>\n",
       "<style scoped>\n",
       "    .dataframe tbody tr th:only-of-type {\n",
       "        vertical-align: middle;\n",
       "    }\n",
       "\n",
       "    .dataframe tbody tr th {\n",
       "        vertical-align: top;\n",
       "    }\n",
       "\n",
       "    .dataframe thead th {\n",
       "        text-align: right;\n",
       "    }\n",
       "</style>\n",
       "<table border=\"1\" class=\"dataframe\">\n",
       "  <thead>\n",
       "    <tr style=\"text-align: right;\">\n",
       "      <th></th>\n",
       "      <th>type</th>\n",
       "      <th>amount</th>\n",
       "      <th>oldbalanceOrg</th>\n",
       "      <th>oldbalanceDest</th>\n",
       "    </tr>\n",
       "  </thead>\n",
       "  <tbody>\n",
       "    <tr>\n",
       "      <th>0</th>\n",
       "      <td>3</td>\n",
       "      <td>9839.64</td>\n",
       "      <td>170136.0</td>\n",
       "      <td>0.0</td>\n",
       "    </tr>\n",
       "    <tr>\n",
       "      <th>1</th>\n",
       "      <td>3</td>\n",
       "      <td>1864.28</td>\n",
       "      <td>21249.0</td>\n",
       "      <td>0.0</td>\n",
       "    </tr>\n",
       "    <tr>\n",
       "      <th>2</th>\n",
       "      <td>4</td>\n",
       "      <td>181.00</td>\n",
       "      <td>181.0</td>\n",
       "      <td>0.0</td>\n",
       "    </tr>\n",
       "    <tr>\n",
       "      <th>3</th>\n",
       "      <td>1</td>\n",
       "      <td>181.00</td>\n",
       "      <td>181.0</td>\n",
       "      <td>21182.0</td>\n",
       "    </tr>\n",
       "    <tr>\n",
       "      <th>4</th>\n",
       "      <td>3</td>\n",
       "      <td>11668.14</td>\n",
       "      <td>41554.0</td>\n",
       "      <td>0.0</td>\n",
       "    </tr>\n",
       "    <tr>\n",
       "      <th>...</th>\n",
       "      <td>...</td>\n",
       "      <td>...</td>\n",
       "      <td>...</td>\n",
       "      <td>...</td>\n",
       "    </tr>\n",
       "    <tr>\n",
       "      <th>9995</th>\n",
       "      <td>3</td>\n",
       "      <td>466.73</td>\n",
       "      <td>881.0</td>\n",
       "      <td>0.0</td>\n",
       "    </tr>\n",
       "    <tr>\n",
       "      <th>9996</th>\n",
       "      <td>3</td>\n",
       "      <td>8239.66</td>\n",
       "      <td>11515.0</td>\n",
       "      <td>0.0</td>\n",
       "    </tr>\n",
       "    <tr>\n",
       "      <th>9997</th>\n",
       "      <td>3</td>\n",
       "      <td>6063.34</td>\n",
       "      <td>31409.0</td>\n",
       "      <td>0.0</td>\n",
       "    </tr>\n",
       "    <tr>\n",
       "      <th>9998</th>\n",
       "      <td>4</td>\n",
       "      <td>317806.64</td>\n",
       "      <td>10901.0</td>\n",
       "      <td>103168.0</td>\n",
       "    </tr>\n",
       "    <tr>\n",
       "      <th>9999</th>\n",
       "      <td>3</td>\n",
       "      <td>5096.16</td>\n",
       "      <td>60472.0</td>\n",
       "      <td>0.0</td>\n",
       "    </tr>\n",
       "  </tbody>\n",
       "</table>\n",
       "<p>10000 rows × 4 columns</p>\n",
       "</div>"
      ],
      "text/plain": [
       "      type     amount  oldbalanceOrg  oldbalanceDest\n",
       "0        3    9839.64       170136.0             0.0\n",
       "1        3    1864.28        21249.0             0.0\n",
       "2        4     181.00          181.0             0.0\n",
       "3        1     181.00          181.0         21182.0\n",
       "4        3   11668.14        41554.0             0.0\n",
       "...    ...        ...            ...             ...\n",
       "9995     3     466.73          881.0             0.0\n",
       "9996     3    8239.66        11515.0             0.0\n",
       "9997     3    6063.34        31409.0             0.0\n",
       "9998     4  317806.64        10901.0        103168.0\n",
       "9999     3    5096.16        60472.0             0.0\n",
       "\n",
       "[10000 rows x 4 columns]"
      ]
     },
     "execution_count": 313,
     "metadata": {},
     "output_type": "execute_result"
    }
   ],
   "source": [
    "x"
   ]
  },
  {
   "cell_type": "markdown",
   "id": "0a12bffa-3a8d-4404-bac6-9d8421beb66b",
   "metadata": {},
   "source": [
    "# <p style=\"padding:15px; background-color:#FFEBCD; font-family:JetBrains Mono; font-weight:bold; color:F0F8FF; font-size:150%; letter-spacing: 2px; text-align:center; border-radius: 15px 15px; border: 5px solid #2C3333\">Data Modeling</p>"
   ]
  },
  {
   "cell_type": "code",
   "execution_count": 314,
   "id": "9a732cb0-b7c3-4a4e-9b7a-2402e5cffae9",
   "metadata": {},
   "outputs": [],
   "source": [
    "from sklearn.linear_model import LogisticRegression\n",
    "from sklearn.tree import DecisionTreeClassifier\n",
    "from sklearn.ensemble import RandomForestClassifier\n",
    "from sklearn.svm import SVC\n",
    "from sklearn.model_selection import cross_val_score\n",
    "from sklearn.model_selection import cross_val_predict\n",
    "from sklearn.metrics import f1_score\n",
    "from sklearn.metrics import fbeta_score\n",
    "from sklearn.metrics import accuracy_score\n",
    "from sklearn.metrics import precision_score\n",
    "from sklearn.model_selection import train_test_split\n",
    "import warnings\n",
    "warnings.filterwarnings('ignore')"
   ]
  },
  {
   "cell_type": "markdown",
   "id": "dc8f1be7-6b96-46ab-8159-e757102693d2",
   "metadata": {},
   "source": [
    "### splitting train , test data"
   ]
  },
  {
   "cell_type": "code",
   "execution_count": 315,
   "id": "ba26ce94-b0fc-42d4-bc39-d51d441cfed2",
   "metadata": {},
   "outputs": [],
   "source": [
    "X_train, x_test, Y_train, y_test = train_test_split(x, y, \n",
    "                                                    test_size= 0.2, \n",
    "                                                    random_state=42)"
   ]
  },
  {
   "cell_type": "markdown",
   "id": "3432779f-229c-40c4-bc46-589f04102a03",
   "metadata": {},
   "source": [
    "# <p style=\"padding:15px; background-color:#FFEBCD; font-family:JetBrains Mono; font-weight:bold; color:F0F8FF; font-size:150%; letter-spacing: 2px; text-align:center; border-radius: 15px 15px; border: 5px solid #2C3333\">Model Selection</p>"
   ]
  },
  {
   "cell_type": "code",
   "execution_count": 316,
   "id": "c0e60c0a-b961-4b83-b705-aa567619016a",
   "metadata": {},
   "outputs": [],
   "source": [
    "models = []\n",
    "models.append(('LR', LogisticRegression()))\n",
    "models.append(('KNN', KNeighborsClassifier()))\n",
    "models.append(('CART', DecisionTreeClassifier()))\n",
    "models.append(('NB', GaussianNB()))\n",
    "models.append(('SVM', SVC()))\n",
    "models.append(('RF', RandomForestClassifier()))\n",
    "\n",
    "\n",
    "results = []\n",
    "names = []\n",
    "for name, model in models:\n",
    "    kfold = model_selection.KFold(n_splits=10, random_state=0 ,shuffle=True)\n",
    "    Results = model_selection.cross_val_score(model, X_train, Y_train, cv=kfold, scoring= 'accuracy')\n",
    "    results.append(Results)\n",
    "    names.append(name)"
   ]
  },
  {
   "cell_type": "code",
   "execution_count": 317,
   "id": "5b010f6d-ae00-4671-99f8-fbd6428791c0",
   "metadata": {},
   "outputs": [
    {
     "data": {
      "image/png": "[encoded data removed]",
      "text/plain": [
       "<Figure size 800x400 with 1 Axes>"
      ]
     },
     "metadata": {},
     "output_type": "display_data"
    }
   ],
   "source": [
    "fig = plt.figure(figsize=(8,4))\n",
    "fig.suptitle('Algorithm Comparison')\n",
    "ax = fig.add_subplot(111)\n",
    "plt.boxplot(results)\n",
    "ax.set_xticklabels(names)\n",
    "plt.show()"
   ]
  },
  {
   "cell_type": "code",
   "execution_count": 318,
   "id": "4378ce53-e15f-4606-91b3-22b1aa692659",
   "metadata": {},
   "outputs": [],
   "source": [
    "# Putting models in a dictionary\n",
    "models = {\n",
    "    \"Logistic Regression\": LogisticRegression(),\n",
    "    \"DecisionTree Classifier\": DecisionTreeClassifier(),\n",
    "    \"Random Forest\": RandomForestClassifier(),\n",
    "    \"SVC\": SVC(),\n",
    "    \"NB\": GaussianNB(),\n",
    "    \"KNN\": KNeighborsClassifier()\n",
    "    \n",
    "}"
   ]
  },
  {
   "cell_type": "code",
   "execution_count": 319,
   "id": "03a3c0d1-0153-47e5-8e53-c79cdef62cbc",
   "metadata": {},
   "outputs": [],
   "source": [
    "# Setting up a function to fit, predict and score model\n",
    "def fit_predict_and_score(models, X_train, x_test, Y_train, y_test):\n",
    "    \"This fuction fit, predict and score the models using accuracy score\"\n",
    "    # making a dictionary to to keep model scores\n",
    "    model_scores = {}\n",
    "    \n",
    "    # looping through models\n",
    "    for name, model in models.items():\n",
    "        # fit the model to the data\n",
    "        model.fit(X_train, Y_train)\n",
    "        training_predict = model.predict(X_train)\n",
    "        testing_predict = model.predict(x_test)\n",
    "        training_accuracy = accuracy_score(training_predict, Y_train)\n",
    "        testing_accuracy = accuracy_score(testing_predict, y_test)\n",
    "        model_scores[name] = f\" has a  score of {training_accuracy} on training set and a score of {testing_accuracy} on testing set\"\n",
    "    return model_scores"
   ]
  },
  {
   "cell_type": "code",
   "execution_count": 320,
   "id": "9d50ed39-9a0f-4027-afd7-66f1e54199cc",
   "metadata": {
    "scrolled": true
   },
   "outputs": [
    {
     "data": {
      "text/plain": [
       "{'Logistic Regression': ' has a  score of 0.992125 on training set and a score of 0.99 on testing set',\n",
       " 'DecisionTree Classifier': ' has a  score of 1.0 on training set and a score of 0.992 on testing set',\n",
       " 'Random Forest': ' has a  score of 1.0 on training set and a score of 0.995 on testing set',\n",
       " 'SVC': ' has a  score of 0.994125 on training set and a score of 0.9905 on testing set',\n",
       " 'NB': ' has a  score of 0.984375 on training set and a score of 0.982 on testing set',\n",
       " 'KNN': ' has a  score of 0.99575 on training set and a score of 0.991 on testing set'}"
      ]
     },
     "execution_count": 320,
     "metadata": {},
     "output_type": "execute_result"
    }
   ],
   "source": [
    "# The DecisionTree Classifier and the RandomForest Classifier perform better among the models\n",
    "fit_predict_and_score(models, X_train, x_test, Y_train, y_test)"
   ]
  },
  {
   "cell_type": "markdown",
   "id": "cb7bb870-bbc3-4406-bb76-c740ca5113c9",
   "metadata": {},
   "source": [
    "# <p style=\"padding:15px; background-color:#FFEBCD; font-family:JetBrains Mono; font-weight:bold; color:F0F8FF; font-size:150%; letter-spacing: 2px; text-align:center; border-radius: 15px 15px; border: 5px solid #2C3333\">Evaluating Model Performance</p>"
   ]
  },
  {
   "cell_type": "code",
   "execution_count": 321,
   "id": "a7517923-dd25-4e3a-ae0f-5f558213ff53",
   "metadata": {},
   "outputs": [],
   "source": [
    "from sklearn.ensemble import RandomForestClassifier\n",
    "from sklearn.metrics import classification_report, accuracy_score\n",
    "from sklearn.metrics import confusion_matrix\n",
    "\n",
    "rand = RandomForestClassifier()\n",
    "rand.fit(X_train, Y_train)\n",
    "rand_prediction = rand.predict(x_test)"
   ]
  },
  {
   "cell_type": "code",
   "execution_count": 322,
   "id": "f392d86f-f363-47b7-9b11-bab020d86c75",
   "metadata": {},
   "outputs": [
    {
     "name": "stdout",
     "output_type": "stream",
     "text": [
      "              precision    recall  f1-score   support\n",
      "\n",
      "           0       0.99      1.00      1.00      1981\n",
      "           1       0.90      0.47      0.62        19\n",
      "\n",
      "    accuracy                           0.99      2000\n",
      "   macro avg       0.95      0.74      0.81      2000\n",
      "weighted avg       0.99      0.99      0.99      2000\n",
      "\n"
     ]
    }
   ],
   "source": [
    "# Classification report\n",
    "print(classification_report(y_test, rand_prediction))"
   ]
  },
  {
   "cell_type": "code",
   "execution_count": 323,
   "id": "e1f70207-ffc6-4dd1-9f5f-f445573a7498",
   "metadata": {},
   "outputs": [
    {
     "data": {
      "image/png": "[encoded data removed]",
      "text/plain": [
       "<Figure size 800x600 with 2 Axes>"
      ]
     },
     "metadata": {},
     "output_type": "display_data"
    },
    {
     "name": "stdout",
     "output_type": "stream",
     "text": [
      "\n",
      "True Possitive    =  1980\n",
      "True Negative     =  9\n",
      "False Possive     =  1\n",
      "False Negative    =  10\n"
     ]
    }
   ],
   "source": [
    "fig, ax = plt.subplots(figsize=(8,6))\n",
    "cm = metrics.confusion_matrix(y_test, rand_prediction)\n",
    "sns.heatmap(cm,annot=True, cmap=\"Blues\" ,fmt='g')\n",
    "plt.title('Confusion matrix', y=1.1)\n",
    "ax.xaxis.set_label_position(\"top\")\n",
    "plt.tight_layout()\n",
    "plt.xlabel('y prediction')\n",
    "plt.ylabel('y actual')\n",
    "plt.show()\n",
    "\n",
    "print('\\nTrue Possitive    = ', cm[0][0])\n",
    "print('True Negative     = ',   cm[1][1])\n",
    "print('False Possive     = ',   cm[0][1])\n",
    "print('False Negative    = ',   cm[1][0])"
   ]
  },
  {
   "cell_type": "markdown",
   "id": "3d2cadb4-2b81-4122-ad93-8e1e369236ca",
   "metadata": {},
   "source": [
    "#### True Positive (TP) = 1980:\n",
    "This means the model correctly predicted the positive class (i.e., the condition you are trying to identify) 1980 times. These are the cases where the model correctly identified positive instances (the model said \"positive,\" and the actual label was also \"positive\").\n",
    "\n",
    "#### True Negative (TN) = 8:\n",
    "This means the model correctly predicted the negative class (i.e., the absence of the condition) 8 times. These are the cases where the model correctly identified negative instances (the model said \"negative,\" and the actual label was also \"negative\").\n",
    "\n",
    "#### False Positive (FP) = 1:\n",
    "These are the instances where the model incorrectly predicted the positive class (e.g., it predicted a \"positive\" result, but the actual outcome was \"negative\")..\n",
    "\n",
    "#### False Negative (FN) = 11:\n",
    "This means the model incorrectly predicted a negative class when the actual class was positive. So, there were 11 cases where the model missed identifying a positive instance (it said \"negative,\" but the actual label was \"positive\").\n",
    "\n",
    "### Summary:\n",
    "##### The model has very high accuracy (99.45%), with almost no false positives or false negatives.\n",
    "##### It has perfect precision (99.95%), meaning every positive prediction is correct.\n",
    "##### It also has excellent recall (99.75%), correctly identifying almost all of the actual positive cases.\n",
    "##### The F1 score is very high (99.85%), indicating a good balance between precision and recall."
   ]
  },
  {
   "cell_type": "markdown",
   "id": "d55d2b30-df2f-443c-9b6a-9b5202fa361c",
   "metadata": {},
   "source": [
    "# <p style=\"padding:15px; background-color:#FFEBCD; font-family:JetBrains Mono; font-weight:bold; color:F0F8FF; font-size:150%; letter-spacing: 2px; text-align:center; border-radius: 15px 15px; border: 5px solid #2C3333\">Saving the Trained Model</p>"
   ]
  },
  {
   "cell_type": "code",
   "execution_count": 262,
   "id": "4fb65839-127d-4eb2-b09c-a7c97a4f7d5b",
   "metadata": {},
   "outputs": [],
   "source": [
    "import pickle"
   ]
  },
  {
   "cell_type": "code",
   "execution_count": 263,
   "id": "e0d92609-c3a9-4169-9495-95ab3c0d9354",
   "metadata": {},
   "outputs": [],
   "source": [
    "filename = \"fraud_detection_model.sav\"\n",
    "pickle.dump(rand, open(filename, \"wb\"))"
   ]
  },
  {
   "cell_type": "code",
   "execution_count": 265,
   "id": "85ced04e-9fd9-45a3-800e-e383c5bd6c32",
   "metadata": {},
   "outputs": [],
   "source": [
    "# Loading the model\n",
    "loaded_model = pickle.load(open(\"fraud_detection_model.sav\", \"rb\"))"
   ]
  },
  {
   "cell_type": "markdown",
   "id": "71001eec-dc4b-4286-9ad1-d34d9dcdd19c",
   "metadata": {},
   "source": [
    "# <p style=\"padding:15px; background-color:#FFEBCD; font-family:JetBrains Mono; font-weight:bold; color:F0F8FF; font-size:150%; letter-spacing: 2px; text-align:center; border-radius: 15px 15px; border: 5px solid #2C3333\">Streamlit Deployment</p>"
   ]
  },
  {
   "cell_type": "code",
   "execution_count": 270,
   "id": "e75f9cd2-936e-40d9-9386-73d1328144b0",
   "metadata": {},
   "outputs": [],
   "source": [
    "testing_df = X_train.reset_index(drop=True)\n",
    "sample = testing_df.iloc[0]"
   ]
  },
  {
   "cell_type": "code",
   "execution_count": 272,
   "id": "e0c86743-20d1-460c-a9fe-a6b01f95e7b2",
   "metadata": {},
   "outputs": [
    {
     "data": {
      "text/plain": [
       "array([0], dtype=int64)"
      ]
     },
     "execution_count": 272,
     "metadata": {},
     "output_type": "execute_result"
    }
   ],
   "source": [
    "loaded_model.predict([sample])"
   ]
  },
  {
   "cell_type": "code",
   "execution_count": null,
   "id": "37bd02ff-af54-47df-b588-a051c32cf41c",
   "metadata": {},
   "outputs": [],
   "source": []
  },
  {
   "cell_type": "code",
   "execution_count": 273,
   "id": "6ce008a3-01b4-4a51-811c-be7adb326c9d",
   "metadata": {},
   "outputs": [
    {
     "name": "stdout",
     "output_type": "stream",
     "text": [
      "[0.0, 489529.12, 10707776.83, 7760414.85]\n"
     ]
    }
   ],
   "source": [
    "    row_index = 4\n",
    "\n",
    "# Convert to a list and print without column names\n",
    "row_values = x_test.iloc[row_index].tolist()\n",
    "print(row_values)"
   ]
  },
  {
   "cell_type": "code",
   "execution_count": 274,
   "id": "6c2bdee1-6a14-47aa-aa2b-490dc03b4d05",
   "metadata": {},
   "outputs": [
    {
     "name": "stdout",
     "output_type": "stream",
     "text": [
      "No Fraudulent Activity\n"
     ]
    }
   ],
   "source": [
    "input_data = [0.0, 489529.12, 10707776.83, 7760414.85]\n",
    "input_data_as_numpy_array = np.asarray(input_data)\n",
    "\n",
    "input_data_reshaped = input_data_as_numpy_array.reshape(1, -1)\n",
    "\n",
    "prediction = loaded_model.predict(input_data_reshaped)\n",
    "\n",
    "if prediction[0] == 0:\n",
    "    print(\"No Fraudulent Activity\")\n",
    "else:\n",
    "    print(\"Fraudulent Activity Detected\")"
   ]
  },
  {
   "cell_type": "code",
   "execution_count": null,
   "id": "9ad82401-ca43-4d8e-9dd8-2a8b54db5b63",
   "metadata": {},
   "outputs": [],
   "source": []
  }
 ],
 "metadata": {
  "kernelspec": {
   "display_name": "Python 3 (ipykernel)",
   "language": "python",
   "name": "python3"
  },
  "language_info": {
   "codemirror_mode": {
    "name": "ipython",
    "version": 3
   },
   "file_extension": ".py",
   "mimetype": "text/x-python",
   "name": "python",
   "nbconvert_exporter": "python",
   "pygments_lexer": "ipython3",
   "version": "3.11.7"
  }
 },
 "nbformat": 4,
 "nbformat_minor": 5
}
